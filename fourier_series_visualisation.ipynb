{
 "cells": [
  {
   "cell_type": "code",
   "execution_count": 15,
   "metadata": {},
   "outputs": [],
   "source": [
    "import numpy as np\n",
    "import matplotlib.pyplot as plt\n",
    "import scipy.integrate as integrate"
   ]
  },
  {
   "cell_type": "markdown",
   "metadata": {},
   "source": [
    "# Fourier series example.\n",
    "\n",
    "Say that we want to approximate the top hat function, $h(x)$ where:\n",
    "$$\n",
    "h(x) = \\begin{cases}\n",
    "1 \\ x \\in [-1,1] \\\\\n",
    "0 \\ else\n",
    "\\end{cases}\n",
    "$$\n",
    "\n",
    "on the interval $[-5,5]$ using a fourier series, then we can find the coefficients. \n",
    "\n",
    "$$\n",
    "\\begin{align*}\n",
    "a_0 = \\int^{5}_{-5}{h(x)}dx \n",
    "= \\int^{1}_{-1}dx \n",
    "= 2\n",
    "\\end{align*}\n",
    "$$\n",
    "\n",
    "$$\n",
    "\\begin{align*}\n",
    "k \\geq 1, \\ a_k = \\int^{5}_{-5}{h(x) cos(\\frac{k \\pi x}{5})}dx \\\\\n",
    "= \\int^{1}_{-1}{cos(\\frac{k \\pi x}{5})}dx \\\\\n",
    "= \\frac{10}{k \\pi} sin(\\frac{k\\pi}{5}) \n",
    "\\end{align*}\n",
    "$$\n",
    "\n",
    "$$\n",
    "\\begin{align*}\n",
    "k \\geq 1, \\ b_k = \\int^{5}_{-5}{h(x) sin(\\frac{k \\pi x}{5})}dx \\\\\n",
    "= \\int^{1}_{-1}{sin(\\frac{k \\pi x}{5})}dx \\\\\n",
    "= 0\n",
    "\\end{align*}\n",
    "$$\n",
    "\n",
    "so $h(x)$ should be exactly equal to:\n",
    "\n",
    "$$\n",
    "f(t) = \\sum^{\\infty}_{m = 0}{\\frac{10}{k \\pi} sin(\\frac{m\\pi}{5})  \\cos{(\\frac{m\\pi t}{5})}}\n",
    "$$"
   ]
  },
  {
   "cell_type": "code",
   "execution_count": 16,
   "metadata": {},
   "outputs": [],
   "source": [
    "def f(t):\n",
    "    if -1 < t < 1:\n",
    "        return 1\n",
    "    return 0 "
   ]
  },
  {
   "cell_type": "code",
   "execution_count": 17,
   "metadata": {},
   "outputs": [],
   "source": [
    "def f_approximation(t,terms = 10_000):\n",
    "    sum = 2  \n",
    "    for i in range(1,terms):\n",
    "        sum += (10/(i * np.pi)) * np.sin(i * np.pi * 1/5) * np.cos(i * np.pi * 1/5 * t)\n",
    "    return sum"
   ]
  },
  {
   "cell_type": "code",
   "execution_count": 18,
   "metadata": {},
   "outputs": [],
   "source": [
    "space = np.linspace(-3,3,1000)\n",
    "output_exact = [f(t) for t in space]\n",
    "output_approximation = [f_approximation(t) for t in space]"
   ]
  },
  {
   "cell_type": "code",
   "execution_count": 20,
   "metadata": {},
   "outputs": [
    {
     "data": {
      "text/plain": [
       "[<matplotlib.lines.Line2D at 0x17d435250>]"
      ]
     },
     "execution_count": 20,
     "metadata": {},
     "output_type": "execute_result"
    },
    {
     "data": {
      "image/png": "[encoded data removed]",
      "text/plain": [
       "<Figure size 432x288 with 1 Axes>"
      ]
     },
     "metadata": {
      "needs_background": "light"
     },
     "output_type": "display_data"
    }
   ],
   "source": [
    "plt.plot(space,output_exact)"
   ]
  },
  {
   "cell_type": "code",
   "execution_count": 21,
   "metadata": {},
   "outputs": [
    {
     "data": {
      "text/plain": [
       "[<matplotlib.lines.Line2D at 0x17d500880>]"
      ]
     },
     "execution_count": 21,
     "metadata": {},
     "output_type": "execute_result"
    },
    {
     "data": {
      "image/png": "[encoded data removed]",
      "text/plain": [
       "<Figure size 432x288 with 1 Axes>"
      ]
     },
     "metadata": {
      "needs_background": "light"
     },
     "output_type": "display_data"
    }
   ],
   "source": [
    "plt.plot(output_approximation)"
   ]
  },
  {
   "cell_type": "code",
   "execution_count": null,
   "metadata": {},
   "outputs": [],
   "source": []
  }
 ],
 "metadata": {
  "kernelspec": {
   "display_name": "Python 3.9.15 64-bit",
   "language": "python",
   "name": "python3"
  },
  "language_info": {
   "codemirror_mode": {
    "name": "ipython",
    "version": 3
   },
   "file_extension": ".py",
   "mimetype": "text/x-python",
   "name": "python",
   "nbconvert_exporter": "python",
   "pygments_lexer": "ipython3",
   "version": "3.9.15"
  },
  "orig_nbformat": 4,
  "vscode": {
   "interpreter": {
    "hash": "a665b5d41d17b532ea9890333293a1b812fa0b73c9c25c950b3cedf1bebd0438"
   }
  }
 },
 "nbformat": 4,
 "nbformat_minor": 2
}
