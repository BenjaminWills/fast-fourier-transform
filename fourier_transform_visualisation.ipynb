{
 "cells": [
  {
   "cell_type": "code",
   "execution_count": 1,
   "metadata": {},
   "outputs": [],
   "source": [
    "import numpy as np\n",
    "import scipy.integrate as integrate\n",
    "import matplotlib.pyplot as plt\n",
    "import ipywidgets as widgets"
   ]
  },
  {
   "cell_type": "markdown",
   "metadata": {},
   "source": [
    "# Decomposing a signal into its components using fourier analysis\n",
    "\n",
    "Say we have a diminishing signal, $f(t) = (sin(6\\pi t) + sin(2\\pi t))$ which is made up of two frequencies: 3 and 1, thus we expect to see a graph with peaks at x = 3 and x = 1.\n",
    "\n",
    "Lets find the fourier transform of $f(t)$.\n",
    "\n",
    "$$\n",
    "\\begin{align*}\n",
    "\\hat{f}(\\omega) = \\int^{\\infty}_{-\\infty}{(sin(6\\pi t) + sin(2\\pi t))e^{-\\omega t i}}dt \\\\\n",
    "\\end{align*}\n",
    "$$\n",
    "\n",
    "This can be found numerically."
   ]
  },
  {
   "cell_type": "code",
   "execution_count": 9,
   "metadata": {},
   "outputs": [],
   "source": [
    "def wave(t):\n",
    "    return 1 + np.cos(2*np.pi*t)"
   ]
  },
  {
   "cell_type": "markdown",
   "metadata": {},
   "source": [
    "## Showing how the function looks mapped around a circle.\n",
    "\n",
    "As we saw in the readme, we know that the integrand of the `fourier transform` is given by $g(t) = f(t)e^{-i\\omega t} = f(t)(cos(\\omega t) - isin(\\omega t))$. In the `complex plane` this looks like a circle if $f(t)$ is constant, otherwise you can imagine plotting the value of $f(t)$ at the angle $\\omega t$ radians around the origin for each value of $t$."
   ]
  },
  {
   "cell_type": "code",
   "execution_count": 3,
   "metadata": {},
   "outputs": [],
   "source": [
    "def circle_wrap_function(function,time,frequency):\n",
    "    function_value = function(time)\n",
    "    angle = time * frequency * 2 * np.pi\n",
    "    return [function_value*np.cos(angle),-function_value*np.sin(angle)]"
   ]
  },
  {
   "cell_type": "code",
   "execution_count": 11,
   "metadata": {},
   "outputs": [],
   "source": [
    "def circle_wrap_visualisation(function,frequency = 1):\n",
    "    times = np.linspace(0,frequency, 10_000) # One whole revolution around the origin\n",
    "    x_vals = []\n",
    "    y_vals = []\n",
    "    for time in times:\n",
    "        x,y = circle_wrap_function(function,time,frequency)\n",
    "        x_vals.append(x)\n",
    "        y_vals.append(y)\n",
    "    fig = plt.figure()\n",
    "    ax = fig.add_subplot(111)\n",
    "    ax.scatter(np.mean(x_vals),np.mean(y_vals), color = 'red')\n",
    "    ax.scatter(x_vals,y_vals,s=.1)\n",
    "    ax.set_ylim(-2,2)\n",
    "    ax.set_xlim(-2,2)\n",
    "    fig.set_figheight(10)\n",
    "    fig.set_figwidth(10)\n",
    "    ax.set_aspect('equal')"
   ]
  },
  {
   "cell_type": "code",
   "execution_count": 8,
   "metadata": {},
   "outputs": [
    {
     "data": {
      "image/png": "[encoded data removed]",
      "text/plain": [
       "<Figure size 720x720 with 1 Axes>"
      ]
     },
     "metadata": {
      "needs_background": "light"
     },
     "output_type": "display_data"
    }
   ],
   "source": [
    "circle_wrap_visualisation(\n",
    "    function = lambda t:1,\n",
    "    frequency = 1) # Example of wrapping a constant function around the circle."
   ]
  },
  {
   "cell_type": "code",
   "execution_count": 12,
   "metadata": {},
   "outputs": [
    {
     "data": {
      "application/vnd.jupyter.widget-view+json": {
       "model_id": "c4291b8e8d0045b08340dd4c7cd62684",
       "version_major": 2,
       "version_minor": 0
      },
      "text/plain": [
       "interactive(children=(FloatSlider(value=5.05, description='frequency', max=10.0, min=0.1, step=0.01), Output()…"
      ]
     },
     "metadata": {},
     "output_type": "display_data"
    },
    {
     "data": {
      "text/plain": [
       "<function __main__.<lambda>(frequency)>"
      ]
     },
     "execution_count": 12,
     "metadata": {},
     "output_type": "execute_result"
    }
   ],
   "source": [
    "widgets.interact(lambda frequency:circle_wrap_visualisation(wave,frequency),frequency = (0.1,10,0.01))"
   ]
  },
  {
   "cell_type": "code",
   "execution_count": null,
   "metadata": {},
   "outputs": [],
   "source": []
  }
 ],
 "metadata": {
  "kernelspec": {
   "display_name": "Python 3.9.15 64-bit",
   "language": "python",
   "name": "python3"
  },
  "language_info": {
   "codemirror_mode": {
    "name": "ipython",
    "version": 3
   },
   "file_extension": ".py",
   "mimetype": "text/x-python",
   "name": "python",
   "nbconvert_exporter": "python",
   "pygments_lexer": "ipython3",
   "version": "3.9.15"
  },
  "orig_nbformat": 4,
  "vscode": {
   "interpreter": {
    "hash": "a665b5d41d17b532ea9890333293a1b812fa0b73c9c25c950b3cedf1bebd0438"
   }
  }
 },
 "nbformat": 4,
 "nbformat_minor": 2
}
